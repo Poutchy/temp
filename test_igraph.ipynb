{
 "cells": [
  {
   "cell_type": "code",
   "execution_count": 39,
   "id": "c4d73cfb",
   "metadata": {},
   "outputs": [],
   "source": [
    "from igraph import Graph\n",
    "import matplotlib.pyplot as plt\n",
    "import json"
   ]
  },
  {
   "cell_type": "code",
   "execution_count": 40,
   "id": "1ae27480",
   "metadata": {},
   "outputs": [],
   "source": [
    "def read_adj_list_adjlist(filename: str) -> tuple[int, list[tuple[int, int]]]:\n",
    "    edges = []\n",
    "    with open(filename, 'r') as f:\n",
    "        max_node = 0\n",
    "        for line in f:\n",
    "            if line.startswith(\"#\") or line.strip() == \"\":\n",
    "                continue\n",
    "            parts = line.strip().split()\n",
    "            src = int(parts[0])\n",
    "            if len(parts[1:]) != 0:\n",
    "                neighbors = map(int, parts[1:])\n",
    "                for dst in neighbors:\n",
    "                    edges.append((src, dst))\n",
    "                    mn = max(neighbors)\n",
    "            else:\n",
    "                mn = 0\n",
    "            max_node = max(max_node, src, mn)\n",
    "    return max_node + 1, edges\n",
    "\n",
    "def create_directed_graph_adjlist(filename: str) -> Graph:\n",
    "    nb_vertex, edge_list = read_adj_list_adjlist(filename)\n",
    "    g = Graph(directed=True)\n",
    "    g.add_vertices(nb_vertex)\n",
    "    g.add_edges(edge_list)\n",
    "\n",
    "    return g\n",
    "\n",
    "def create_real_graphs(filename: str) -> Graph:\n",
    "    edge_list = []\n",
    "    with open(filename, 'r') as f:\n",
    "        for line in f:\n",
    "            src, dst = map(int, line.strip().split(\",\"))\n",
    "            edge_list.append((src, dst))\n",
    "    edges = [edge for edge in edge_list]\n",
    "    g = Graph(directed=True)\n",
    "    g.add_vertices(max(max(u, v) for u, v in edges) + 1)\n",
    "    g.add_edges(edges)\n",
    "\n",
    "    return g"
   ]
  },
  {
   "cell_type": "code",
   "execution_count": 41,
   "id": "2446c6cf",
   "metadata": {},
   "outputs": [
    {
     "name": "stdout",
     "output_type": "stream",
     "text": [
      "IGRAPH D--- 100 100 -- \n"
     ]
    }
   ],
   "source": [
    "g = create_directed_graph_adjlist(\"data/graph_10_100_2_0.5_0.3.adjlist\")\n",
    "print(g.summary())"
   ]
  },
  {
   "cell_type": "code",
   "execution_count": 42,
   "id": "58bada39",
   "metadata": {},
   "outputs": [
    {
     "name": "stdout",
     "output_type": "stream",
     "text": [
      "IGRAPH D--- 1000 1000 -- \n"
     ]
    }
   ],
   "source": [
    "g = create_directed_graph_adjlist(\"bdata/graph_10_1000_2_0.5_0.3.adjlist\")\n",
    "print(g.summary())"
   ]
  },
  {
   "cell_type": "code",
   "execution_count": null,
   "id": "191139e7",
   "metadata": {},
   "outputs": [
    {
     "name": "stdout",
     "output_type": "stream",
     "text": [
      "Read successful\n"
     ]
    }
   ],
   "source": [
    "with open(\"config.json\", \"r\", encoding=\"utf-8\") as jsonfile:\n",
    "    data = json.load(jsonfile)\n",
    "    print(\"Read successful\")\n",
    "\n",
    "\n",
    "def compute_wot_rank(trust_graph: Graph, truster: int, trustee: int) -> int:\n",
    "    \"\"\"\n",
    "    Compute the rank (shortest path distance for positive edges only) from truster to trustee.\n",
    "    \"\"\"\n",
    "    # Compute shortest path length\n",
    "\n",
    "    rank = trust_graph.distances(source=truster, target=trustee)\n",
    "    # except ig:\n",
    "    #     rank = -1  # float('inf')  # No path found\n",
    "    return rank[0][0]\n",
    "\n",
    "\n",
    "def compute_wot_capacity(rank: int) -> int:\n",
    "    \"\"\"\n",
    "    Compute the capacity based on the rank using the defined exponential decay formula.\n",
    "    \"\"\"\n",
    "    if rank < 0:\n",
    "        return 0\n",
    "    # if rank >= 100:\n",
    "    #     return 0 # infinite\n",
    "\n",
    "    if rank > 5:\n",
    "        return 1\n",
    "\n",
    "    return data[\"rank_to_capacity\"][rank]\n",
    "\n",
    "\n",
    "def compute_wot_score(\n",
    "    trust_graph: Graph, truster: int, trustee: int, verbose: bool = False\n",
    ") -> int:\n",
    "    \"\"\"\n",
    "    Compute the score of trustee from the perspective of truster.\n",
    "    \"\"\"\n",
    "    if truster == trustee:\n",
    "        return 100\n",
    "    if trustee in trust_graph.neighbors(truster, mode='out'):\n",
    "        # Direct trust value exists\n",
    "        # return 100 #trust_graph[truster][trustee]['weight']\n",
    "\n",
    "        return 100\n",
    "    # Indirect computation\n",
    "\n",
    "    score = 0\n",
    "    neighbor_of_trustee = trust_graph.neighbors(trustee, mode='in')\n",
    "    print(\"return of incident\", neighbor_of_trustee)\n",
    "    for neighbor in neighbor_of_trustee:\n",
    "        trust_value = 100  # trust_graph[neighbor][trustee]['weight']\n",
    "        rank = compute_wot_rank(trust_graph, truster, neighbor)\n",
    "        capacity = compute_wot_capacity(rank)\n",
    "        score += (trust_value * capacity) // 100\n",
    "\n",
    "        if verbose:\n",
    "            if rank >= 0:\n",
    "                print(\n",
    "                    f\"  {truster}--...-->{neighbor}->{trustee}: rank={rank} capacity={capacity}\"\n",
    "                )\n",
    "            else:\n",
    "                print(\n",
    "                    f\"  {truster} NOPATH {neighbor}->{trustee}: rank={rank} capacity={capacity}\"\n",
    "                )\n",
    "    # if score != 0:\n",
    "    #     score = round(score / len(neighbor_of_trustee))\n",
    "\n",
    "    return score"
   ]
  },
  {
   "cell_type": "code",
   "execution_count": 44,
   "id": "24a784d6",
   "metadata": {},
   "outputs": [
    {
     "name": "stdout",
     "output_type": "stream",
     "text": [
      "IGRAPH D--- 907 238878 -- \n"
     ]
    }
   ],
   "source": [
    "g = create_real_graphs(\"rdata/graph4.csv\")\n",
    "print(g.summary())"
   ]
  },
  {
   "cell_type": "code",
   "execution_count": 45,
   "id": "70e0fc98",
   "metadata": {},
   "outputs": [
    {
     "name": "stdout",
     "output_type": "stream",
     "text": [
      "return of incident [3, 5, 9, 15, 32, 35, 38, 39, 41, 46, 48, 55, 56, 64, 67, 69, 70, 71, 72, 83, 84, 93, 95, 98, 100, 102, 104, 105, 109, 124, 134, 136, 148, 149, 152, 157, 159, 161, 164, 166, 170, 171, 175, 176, 186, 196, 200, 203, 204, 208, 227, 231, 234, 237, 241, 246, 247, 248, 249, 270, 271, 275, 277, 278, 279, 282, 283, 289, 292, 293, 297, 302, 303, 309, 312, 314, 322, 325, 332, 336, 341, 342, 345, 346, 351, 365, 379, 380, 385, 389, 393, 397, 398, 406, 407, 413, 414, 415, 417, 424, 425, 433, 436, 437, 442, 444, 456, 461, 466, 470, 477, 479, 482, 484, 486, 489, 493, 496, 504, 508, 509, 523, 528, 530, 536, 537, 545, 546, 551, 552, 560, 565, 567, 569, 573, 576, 584, 587, 596, 609, 616, 625, 628, 629, 635, 640, 650, 651, 654, 661, 664, 665, 669, 680, 695, 697, 699, 705, 709, 718, 719, 720, 723, 741, 746, 749, 750, 752, 754, 758, 772, 775, 779, 785, 786, 787, 796, 813, 817, 829, 831, 836, 837, 838, 849, 863, 864]\n",
      "4528\n"
     ]
    }
   ],
   "source": [
    "print(compute_wot_score(g, 1, 2))"
   ]
  }
 ],
 "metadata": {
  "kernelspec": {
   "display_name": ".venv",
   "language": "python",
   "name": "python3"
  },
  "language_info": {
   "codemirror_mode": {
    "name": "ipython",
    "version": 3
   },
   "file_extension": ".py",
   "mimetype": "text/x-python",
   "name": "python",
   "nbconvert_exporter": "python",
   "pygments_lexer": "ipython3",
   "version": "3.12.3"
  }
 },
 "nbformat": 4,
 "nbformat_minor": 5
}
