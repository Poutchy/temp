{
 "cells": [
  {
   "cell_type": "code",
   "execution_count": 1,
   "id": "9ec3dc47",
   "metadata": {},
   "outputs": [],
   "source": [
    "import matplotlib.pyplot as plt\n",
    "import pandas as pd\n",
    "import glob\n",
    "plt.rcParams.update({\n",
    "  \"text.usetex\": True,\n",
    "  \"font.family\": \"Arial\"\n",
    "})\n",
    "\n",
    "plot_save = \"plots/bdata/\""
   ]
  },
  {
   "cell_type": "code",
   "execution_count": 2,
   "id": "b1f28837",
   "metadata": {},
   "outputs": [
    {
     "name": "stdout",
     "output_type": "stream",
     "text": [
      "bdata/computation9.csv\n",
      "bdata/computation5.csv\n",
      "bdata/computation4.csv\n",
      "bdata/computation2.csv\n",
      "bdata/computation0.csv\n",
      "bdata/computation1.csv\n",
      "bdata/computation7.csv\n",
      "bdata/computation8.csv\n",
      "bdata/computation6.csv\n",
      "bdata/computation3.csv\n"
     ]
    },
    {
     "data": {
      "text/html": [
       "<div>\n",
       "<style scoped>\n",
       "    .dataframe tbody tr th:only-of-type {\n",
       "        vertical-align: middle;\n",
       "    }\n",
       "\n",
       "    .dataframe tbody tr th {\n",
       "        vertical-align: top;\n",
       "    }\n",
       "\n",
       "    .dataframe thead th {\n",
       "        text-align: right;\n",
       "    }\n",
       "</style>\n",
       "<table border=\"1\" class=\"dataframe\">\n",
       "  <thead>\n",
       "    <tr style=\"text-align: right;\">\n",
       "      <th></th>\n",
       "      <th>Unnamed: 0</th>\n",
       "      <th>FreeNet_pre_score</th>\n",
       "      <th>FreeNet_post_score</th>\n",
       "      <th>FreeNet_pre_rank</th>\n",
       "      <th>FreeNet_post_rank</th>\n",
       "      <th>FreeNet_delta_ranks</th>\n",
       "      <th>Reversed_pre_score</th>\n",
       "      <th>Reversed_post_score</th>\n",
       "      <th>Reversed_pre_rank</th>\n",
       "      <th>Reversed_post_rank</th>\n",
       "      <th>...</th>\n",
       "      <th>Random_post_score</th>\n",
       "      <th>Random_pre_rank</th>\n",
       "      <th>Random_post_rank</th>\n",
       "      <th>Random_delta_ranks</th>\n",
       "      <th>dist_victim_relayer</th>\n",
       "      <th>out_deg_victim</th>\n",
       "      <th>in_deg_villain</th>\n",
       "      <th>victim</th>\n",
       "      <th>villain</th>\n",
       "      <th>relayer</th>\n",
       "    </tr>\n",
       "  </thead>\n",
       "  <tbody>\n",
       "    <tr>\n",
       "      <th>0</th>\n",
       "      <td>0</td>\n",
       "      <td>0</td>\n",
       "      <td>101</td>\n",
       "      <td>165.5</td>\n",
       "      <td>964.0</td>\n",
       "      <td>798.5</td>\n",
       "      <td>0</td>\n",
       "      <td>3</td>\n",
       "      <td>165.5</td>\n",
       "      <td>357.0</td>\n",
       "      <td>...</td>\n",
       "      <td>0.000306</td>\n",
       "      <td>197.0</td>\n",
       "      <td>640.0</td>\n",
       "      <td>443.0</td>\n",
       "      <td>5</td>\n",
       "      <td>3</td>\n",
       "      <td>1</td>\n",
       "      <td>786</td>\n",
       "      <td>787</td>\n",
       "      <td>500</td>\n",
       "    </tr>\n",
       "    <tr>\n",
       "      <th>1</th>\n",
       "      <td>1</td>\n",
       "      <td>0</td>\n",
       "      <td>102</td>\n",
       "      <td>166.0</td>\n",
       "      <td>940.5</td>\n",
       "      <td>774.5</td>\n",
       "      <td>0</td>\n",
       "      <td>3</td>\n",
       "      <td>166.0</td>\n",
       "      <td>389.0</td>\n",
       "      <td>...</td>\n",
       "      <td>0.000442</td>\n",
       "      <td>199.5</td>\n",
       "      <td>714.0</td>\n",
       "      <td>514.5</td>\n",
       "      <td>4</td>\n",
       "      <td>2</td>\n",
       "      <td>0</td>\n",
       "      <td>943</td>\n",
       "      <td>201</td>\n",
       "      <td>396</td>\n",
       "    </tr>\n",
       "    <tr>\n",
       "      <th>2</th>\n",
       "      <td>2</td>\n",
       "      <td>28</td>\n",
       "      <td>28</td>\n",
       "      <td>780.0</td>\n",
       "      <td>780.0</td>\n",
       "      <td>0.0</td>\n",
       "      <td>24</td>\n",
       "      <td>24</td>\n",
       "      <td>796.0</td>\n",
       "      <td>796.0</td>\n",
       "      <td>...</td>\n",
       "      <td>0.000817</td>\n",
       "      <td>791.0</td>\n",
       "      <td>791.0</td>\n",
       "      <td>0.0</td>\n",
       "      <td>-1</td>\n",
       "      <td>3</td>\n",
       "      <td>5</td>\n",
       "      <td>774</td>\n",
       "      <td>418</td>\n",
       "      <td>812</td>\n",
       "    </tr>\n",
       "    <tr>\n",
       "      <th>3</th>\n",
       "      <td>3</td>\n",
       "      <td>6</td>\n",
       "      <td>1646</td>\n",
       "      <td>449.5</td>\n",
       "      <td>1000.0</td>\n",
       "      <td>550.5</td>\n",
       "      <td>25</td>\n",
       "      <td>96</td>\n",
       "      <td>426.0</td>\n",
       "      <td>758.0</td>\n",
       "      <td>...</td>\n",
       "      <td>0.010484</td>\n",
       "      <td>200.5</td>\n",
       "      <td>978.0</td>\n",
       "      <td>777.5</td>\n",
       "      <td>1</td>\n",
       "      <td>12</td>\n",
       "      <td>1</td>\n",
       "      <td>106</td>\n",
       "      <td>618</td>\n",
       "      <td>128</td>\n",
       "    </tr>\n",
       "    <tr>\n",
       "      <th>4</th>\n",
       "      <td>4</td>\n",
       "      <td>124</td>\n",
       "      <td>330</td>\n",
       "      <td>955.5</td>\n",
       "      <td>991.0</td>\n",
       "      <td>35.5</td>\n",
       "      <td>12</td>\n",
       "      <td>12</td>\n",
       "      <td>693.0</td>\n",
       "      <td>693.0</td>\n",
       "      <td>...</td>\n",
       "      <td>0.003438</td>\n",
       "      <td>928.0</td>\n",
       "      <td>929.0</td>\n",
       "      <td>1.0</td>\n",
       "      <td>3</td>\n",
       "      <td>2</td>\n",
       "      <td>30</td>\n",
       "      <td>849</td>\n",
       "      <td>75</td>\n",
       "      <td>570</td>\n",
       "    </tr>\n",
       "  </tbody>\n",
       "</table>\n",
       "<p>5 rows × 22 columns</p>\n",
       "</div>"
      ],
      "text/plain": [
       "   Unnamed: 0  FreeNet_pre_score  FreeNet_post_score  FreeNet_pre_rank  \\\n",
       "0           0                  0                 101             165.5   \n",
       "1           1                  0                 102             166.0   \n",
       "2           2                 28                  28             780.0   \n",
       "3           3                  6                1646             449.5   \n",
       "4           4                124                 330             955.5   \n",
       "\n",
       "   FreeNet_post_rank  FreeNet_delta_ranks  Reversed_pre_score  \\\n",
       "0              964.0                798.5                   0   \n",
       "1              940.5                774.5                   0   \n",
       "2              780.0                  0.0                  24   \n",
       "3             1000.0                550.5                  25   \n",
       "4              991.0                 35.5                  12   \n",
       "\n",
       "   Reversed_post_score  Reversed_pre_rank  Reversed_post_rank  ...  \\\n",
       "0                    3              165.5               357.0  ...   \n",
       "1                    3              166.0               389.0  ...   \n",
       "2                   24              796.0               796.0  ...   \n",
       "3                   96              426.0               758.0  ...   \n",
       "4                   12              693.0               693.0  ...   \n",
       "\n",
       "   Random_post_score  Random_pre_rank  Random_post_rank  Random_delta_ranks  \\\n",
       "0           0.000306            197.0             640.0               443.0   \n",
       "1           0.000442            199.5             714.0               514.5   \n",
       "2           0.000817            791.0             791.0                 0.0   \n",
       "3           0.010484            200.5             978.0               777.5   \n",
       "4           0.003438            928.0             929.0                 1.0   \n",
       "\n",
       "   dist_victim_relayer  out_deg_victim  in_deg_villain  victim  villain  \\\n",
       "0                    5               3               1     786      787   \n",
       "1                    4               2               0     943      201   \n",
       "2                   -1               3               5     774      418   \n",
       "3                    1              12               1     106      618   \n",
       "4                    3               2              30     849       75   \n",
       "\n",
       "   relayer  \n",
       "0      500  \n",
       "1      396  \n",
       "2      812  \n",
       "3      128  \n",
       "4      570  \n",
       "\n",
       "[5 rows x 22 columns]"
      ]
     },
     "metadata": {},
     "output_type": "display_data"
    }
   ],
   "source": [
    "data = []\n",
    "for file in glob.glob(\"bdata/computation*.csv\"):\n",
    "  print(file)\n",
    "  data.append(pd.read_csv(file, delimiter=',', ))\n",
    "data = pd.concat(data)\n",
    "data = data.reset_index(drop=True)\n",
    "\n",
    "display(data.head(5))"
   ]
  },
  {
   "cell_type": "code",
   "execution_count": 3,
   "id": "35273cb1",
   "metadata": {},
   "outputs": [
    {
     "data": {
      "image/png": "[encoded data removed]",
      "text/plain": [
       "<Figure size 640x480 with 1 Axes>"
      ]
     },
     "metadata": {},
     "output_type": "display_data"
    }
   ],
   "source": [
    "data.boxplot(column=['FreeNet_pre_rank', 'FreeNet_post_rank', 'FreeNet_delta_ranks'])\n",
    "plt.savefig(fname=plot_save + \"freenet_rank.png\")\n",
    "plt.show()"
   ]
  },
  {
   "cell_type": "code",
   "execution_count": 4,
   "id": "a61e1db0",
   "metadata": {},
   "outputs": [
    {
     "data": {
      "image/png": "[encoded data removed]",
      "text/plain": [
       "<Figure size 640x480 with 1 Axes>"
      ]
     },
     "metadata": {},
     "output_type": "display_data"
    }
   ],
   "source": [
    "data.boxplot(column=['Reversed_pre_rank', 'Reversed_post_rank', 'Reversed_delta_ranks'])\n",
    "plt.savefig(fname=plot_save + \"reversed_rank.png\")\n",
    "plt.show()\n"
   ]
  },
  {
   "cell_type": "code",
   "execution_count": 5,
   "id": "54251ce6",
   "metadata": {},
   "outputs": [
    {
     "data": {
      "image/png": "[encoded data removed]",
      "text/plain": [
       "<Figure size 640x480 with 1 Axes>"
      ]
     },
     "metadata": {},
     "output_type": "display_data"
    }
   ],
   "source": [
    "data[data.dist_victim_relayer>=0].boxplot(column=['Random_pre_rank', 'Random_post_rank', 'Random_delta_ranks'])\n",
    "plt.savefig(fname=plot_save + \"random_rank.png\")\n",
    "plt.show()\n"
   ]
  },
  {
   "cell_type": "code",
   "execution_count": 6,
   "id": "75ae985c",
   "metadata": {},
   "outputs": [
    {
     "data": {
      "image/png": "[encoded data removed]",
      "text/plain": [
       "<Figure size 640x480 with 1 Axes>"
      ]
     },
     "metadata": {},
     "output_type": "display_data"
    }
   ],
   "source": [
    "data[data.dist_victim_relayer>=0].boxplot(column=['FreeNet_delta_ranks', 'Reversed_delta_ranks', 'Random_delta_ranks'])\n",
    "plt.savefig(fname=plot_save + \"all_rank.png\")\n",
    "plt.show()\n"
   ]
  },
  {
   "cell_type": "code",
   "execution_count": 7,
   "id": "5fefece7",
   "metadata": {},
   "outputs": [
    {
     "data": {
      "image/png": "[encoded data removed]",
      "text/plain": [
       "<Figure size 640x480 with 4 Axes>"
      ]
     },
     "metadata": {},
     "output_type": "display_data"
    }
   ],
   "source": [
    "data.hist(column=['FreeNet_delta_ranks', 'Reversed_delta_ranks', 'Random_delta_ranks'], bins=20, sharey=True, sharex=True)\n",
    "plt.savefig(fname=plot_save + \"hist.png\")\n",
    "plt.show()\n"
   ]
  }
 ],
 "metadata": {
  "kernelspec": {
   "display_name": ".venv",
   "language": "python",
   "name": "python3"
  },
  "language_info": {
   "codemirror_mode": {
    "name": "ipython",
    "version": 3
   },
   "file_extension": ".py",
   "mimetype": "text/x-python",
   "name": "python",
   "nbconvert_exporter": "python",
   "pygments_lexer": "ipython3",
   "version": "3.12.8"
  }
 },
 "nbformat": 4,
 "nbformat_minor": 5
}
